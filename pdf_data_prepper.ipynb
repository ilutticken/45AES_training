{
 "cells": [
  {
   "cell_type": "markdown",
   "id": "fe907127",
   "metadata": {},
   "source": [
    "# PDF Data Preprocessing\n",
    "\n",
    "This notebook demonstrates how to preprocess PDF files for text extraction and analysis."
   ]
  },
  {
   "cell_type": "markdown",
   "id": "58e8443e",
   "metadata": {},
   "source": [
    "## Import necessary libraries"
   ]
  },
  {
   "cell_type": "code",
   "execution_count": 7,
   "id": "52236ba6",
   "metadata": {},
   "outputs": [
    {
     "name": "stdout",
     "output_type": "stream",
     "text": [
      "Collecting PyPDF2\n",
      "  Downloading pypdf2-3.0.1-py3-none-any.whl.metadata (6.8 kB)\n",
      "Downloading pypdf2-3.0.1-py3-none-any.whl (232 kB)\n",
      "Installing collected packages: PyPDF2\n",
      "Successfully installed PyPDF2-3.0.1\n"
     ]
    }
   ],
   "source": [
    "!pip install PyPDF2"
   ]
  },
  {
   "cell_type": "code",
   "execution_count": 8,
   "id": "22fc01c7",
   "metadata": {},
   "outputs": [],
   "source": [
    "# Import Libraries for PDF preprocessing for fine-tuning an LLM\n",
    "import os\n",
    "import re\n",
    "import pandas as pd\n",
    "import numpy as np\n",
    "import random\n",
    "import json\n",
    "import string\n",
    "import time\n",
    "import logging\n",
    "import argparse\n",
    "import sys\n",
    "import shutil\n",
    "import glob\n",
    "import subprocess\n",
    "\n",
    "# For PDF text extraction\n",
    "import PyPDF2\n",
    "\n",
    "# For progress bar\n",
    "from tqdm.notebook import tqdm\n",
    "\n",
    "# For creating output directory if it doesn't exist\n",
    "import os.path as osp"
   ]
  },
  {
   "cell_type": "code",
   "execution_count": 11,
   "id": "46b510af",
   "metadata": {},
   "outputs": [
    {
     "name": "stdout",
     "output_type": "stream",
     "text": [
      "Skipping data\\AN_PRC 117F User manual.pdf, already processed.\n",
      "Skipping data\\AN_PRC 117G User manual.pdf, already processed.\n",
      "Skipping data\\BGAN Explorer 710 User Manual.pdf, already processed.\n",
      "Skipping data\\BGAN Explorer_710 User manual.pdf, already processed.\n",
      "Skipping data\\Cannon PIXMA iP100 User manual.pdf, already processed.\n",
      "Skipping data\\CISCO 1900_series User manual.pdf, already processed.\n",
      "Skipping data\\CISCO 2500_series User manual.pdf, already processed.\n",
      "Skipping data\\CISCO 2800_series User manual.pdf, already processed.\n",
      "Skipping data\\CISCO 2811__voice_security_bundle_router User manual.pdf, already processed.\n",
      "Skipping data\\CISCO ASA_5505 User manual.pdf, already processed.\n",
      "Skipping data\\CISCO catalyst_3560 User manual.pdf, already processed.\n",
      "Skipping data\\CISCO Catalyst_3750 User manual.pdf, already processed.\n",
      "Skipping data\\Garmin GPSMAP_78 User manual User manual.pdf, already processed.\n",
      "Skipping data\\GETAC B300G7 User Manual.pdf, already processed.\n",
      "Skipping data\\GETAC CF-19 User manual.pdf, already processed.\n",
      "Skipping data\\Harris L3 User manual.pdf, it is encrypted.\n",
      "Processing data\\Harris RT-1796PRC Communications Equipment Practical Application I -  II User manual.pdf...\n",
      "Processing data\\Harris RT-1796PRC Communications Equipment Practical Application I -  II User manual.pdf...\n",
      "Extracted text saved to data\\Harris RT-1796PRC Communications Equipment Practical Application I -  II User manual.txt\n",
      "Processing data\\HP (Hewlett-Packard) 6216A User Manual.pdf...\n",
      "Extracted text saved to data\\Harris RT-1796PRC Communications Equipment Practical Application I -  II User manual.txt\n",
      "Processing data\\HP (Hewlett-Packard) 6216A User Manual.pdf...\n",
      "Extracted text saved to data\\HP (Hewlett-Packard) 6216A User Manual.txt\n",
      "Processing data\\Iridium 9505 MS1-20 User manual.pdf...\n",
      "Extracted text saved to data\\HP (Hewlett-Packard) 6216A User Manual.txt\n",
      "Processing data\\Iridium 9505 MS1-20 User manual.pdf...\n",
      "Extracted text saved to data\\Iridium 9505 MS1-20 User manual.txt\n",
      "Processing data\\Klein Tools VDV ScoutPro User manual.pdf...\n",
      "Extracted text saved to data\\Iridium 9505 MS1-20 User manual.txt\n",
      "Processing data\\Klein Tools VDV ScoutPro User manual.pdf...\n",
      "Extracted text saved to data\\Klein Tools VDV ScoutPro User manual.txt\n",
      "Processing data\\Motorola Astro_XTS_5000 User manual.pdf...\n",
      "Extracted text saved to data\\Klein Tools VDV ScoutPro User manual.txt\n",
      "Processing data\\Motorola Astro_XTS_5000 User manual.pdf...\n",
      "Extracted text saved to data\\Motorola Astro_XTS_5000 User manual.txt\n",
      "Processing data\\Motorola Satellite_Series_9505 User manual.pdf...\n",
      "Extracted text saved to data\\Motorola Astro_XTS_5000 User manual.txt\n",
      "Processing data\\Motorola Satellite_Series_9505 User manual.pdf...\n",
      "Extracted text saved to data\\Motorola Satellite_Series_9505 User manual.txt\n",
      "Processing data\\NEC NP50 User manual.pdf...\n",
      "Extracted text saved to data\\NEC NP50 User manual.txt\n",
      "Processing data\\NetScout Linkrunner_at_1000 User manual.pdf...\n",
      "Extracted text saved to data\\Motorola Satellite_Series_9505 User manual.txt\n",
      "Processing data\\NEC NP50 User manual.pdf...\n",
      "Extracted text saved to data\\NEC NP50 User manual.txt\n",
      "Processing data\\NetScout Linkrunner_at_1000 User manual.pdf...\n",
      "Extracted text saved to data\\NetScout Linkrunner_at_1000 User manual.txt\n",
      "Processing data\\Paladin Tools Cable-Check pro 1577 User manual.pdf...\n",
      "Extracted text saved to data\\NetScout Linkrunner_at_1000 User manual.txt\n",
      "Processing data\\Paladin Tools Cable-Check pro 1577 User manual.pdf...\n",
      "Extracted text saved to data\\Paladin Tools Cable-Check pro 1577 User manual.txt\n",
      "Processing data\\Startech LanTestPro User manual.pdf...\n",
      "Extracted text saved to data\\Startech LanTestPro User manual.txt\n",
      "Extracted text saved to data\\Paladin Tools Cable-Check pro 1577 User manual.txt\n",
      "Processing data\\Startech LanTestPro User manual.pdf...\n",
      "Extracted text saved to data\\Startech LanTestPro User manual.txt\n"
     ]
    }
   ],
   "source": [
    "# The PDFs are stored in the data directory\n",
    "\n",
    "data_dir = \"data\"\n",
    "output_dir = \"data\"\n",
    "\n",
    "for dirpath, dirnames, filenames in os.walk(data_dir):\n",
    "    for filename in filenames:\n",
    "        if filename.endswith(\".pdf\"):\n",
    "            pdf_path = os.path.join(dirpath, filename)\n",
    "            # Exclude pdfs that have already been processed\n",
    "            if os.path.exists(os.path.join(output_dir, f\"{os.path.splitext(filename)[0]}.txt\")):\n",
    "                print(f\"Skipping {pdf_path}, already processed.\")\n",
    "                continue\n",
    "            # Skip encrypted PDFs\n",
    "            try:\n",
    "                with open(pdf_path, \"rb\") as file:\n",
    "                    reader = PyPDF2.PdfReader(file)\n",
    "                    if reader.is_encrypted:\n",
    "                        print(f\"Skipping {pdf_path}, it is encrypted.\")\n",
    "                        continue\n",
    "            except Exception as e:\n",
    "                print(f\"Error reading {pdf_path}: {e}\")\n",
    "                continue\n",
    "            # Process the PDF file here\n",
    "            print(f\"Processing {pdf_path}...\")\n",
    "            # Add your PDF processing code here\n",
    "\n",
    "# Use PyPDF2 to extract text from the PDF file\n",
    "\n",
    "            with open(pdf_path, \"rb\") as file:\n",
    "                reader = PyPDF2.PdfReader(file)\n",
    "                text = \"\"\n",
    "                for page in reader.pages:\n",
    "                    text += page.extract_text()\n",
    "\n",
    "            # Save the extracted text to a new, single text file\n",
    "            output_file = os.path.join(output_dir, f\"{os.path.splitext(filename)[0]}.txt\")\n",
    "            with open(output_file, \"w\", encoding=\"utf-8\") as text_file:\n",
    "                text_file.write(text)\n",
    "\n",
    "            print(f\"Extracted text saved to {output_file}\")\n",
    "\n",
    "\n"
   ]
  },
  {
   "cell_type": "code",
   "execution_count": 12,
   "id": "adf9c2c7",
   "metadata": {},
   "outputs": [
    {
     "name": "stdout",
     "output_type": "stream",
     "text": [
      "Processed 26 text files.\n",
      "Total number of words in merged file: 971051\n"
     ]
    }
   ],
   "source": [
    "# Merge all the text files into a single file\n",
    "\n",
    "with open(os.path.join(output_dir, \"merged_text.txt\"), \"w\", encoding=\"utf-8\") as outfile:\n",
    "    for dirpath, dirnames, filenames in os.walk(output_dir):\n",
    "        for filename in filenames:\n",
    "            if filename.endswith(\".txt\") and filename != \"merged_text.txt\":\n",
    "                with open(os.path.join(dirpath, filename), \"r\", encoding=\"utf-8\") as infile:\n",
    "                    outfile.write(infile.read())\n",
    "                    outfile.write(\"\\n\")  # Add a newline between files\n",
    "\n",
    "# Print the number of files processed\n",
    "print(f\"Processed {len([f for f in filenames if f.endswith('.txt')])} text files.\")\n",
    "\n",
    "# Print the total number of words in the merged file\n",
    "with open(os.path.join(output_dir, \"merged_text.txt\"), \"r\", encoding=\"utf-8\") as infile:\n",
    "    text = infile.read()\n",
    "    word_count = len(text.split())\n",
    "    print(f\"Total number of words in merged file: {word_count}\")"
   ]
  },
  {
   "cell_type": "code",
   "execution_count": null,
   "id": "43b91954",
   "metadata": {},
   "outputs": [],
   "source": []
  }
 ],
 "metadata": {
  "kernelspec": {
   "display_name": "base",
   "language": "python",
   "name": "python3"
  },
  "language_info": {
   "codemirror_mode": {
    "name": "ipython",
    "version": 3
   },
   "file_extension": ".py",
   "mimetype": "text/x-python",
   "name": "python",
   "nbconvert_exporter": "python",
   "pygments_lexer": "ipython3",
   "version": "3.12.7"
  }
 },
 "nbformat": 4,
 "nbformat_minor": 5
}
