{
 "cells": [
  {
   "cell_type": "markdown",
   "id": "fe907127",
   "metadata": {},
   "source": [
    "# PDF Data Preprocessing\n",
    "\n",
    "This notebook demonstrates how to preprocess PDF files for text extraction and analysis."
   ]
  },
  {
   "cell_type": "markdown",
   "id": "58e8443e",
   "metadata": {},
   "source": [
    "## Import necessary libraries"
   ]
  },
  {
   "cell_type": "code",
   "execution_count": null,
   "id": "22fc01c7",
   "metadata": {},
   "outputs": [],
   "source": [
    "# Import Libraries for PDF preprocessing for fine-tuning an LLM\n",
    "import os\n",
    "import re\n",
    "import fitz  # PyMuPDF\n",
    "import pandas as pd\n",
    "import numpy as np\n",
    "import random\n",
    "import json\n",
    "import string\n",
    "import time\n",
    "import logging\n",
    "import argparse\n",
    "import sys\n",
    "import shutil\n",
    "import glob\n",
    "import subprocess\n"
   ]
  },
  {
   "cell_type": "code",
   "execution_count": null,
   "id": "46b510af",
   "metadata": {},
   "outputs": [],
   "source": []
  }
 ],
 "metadata": {
  "language_info": {
   "name": "python"
  }
 },
 "nbformat": 4,
 "nbformat_minor": 5
}
